{
 "cells": [
  {
   "cell_type": "markdown",
   "metadata": {
    "collapsed": true
   },
   "source": [
    "## CO2 data\n",
    "This notebook process the data for the Uniview Keeling Curve module, the atmospheric concentration of carbon dioxide over time. The curve is named after atmospheric scientist Charles David Keeling. The dataset was "
   ]
  },
  {
   "cell_type": "code",
   "execution_count": 2,
   "metadata": {
    "collapsed": true
   },
   "outputs": [],
   "source": [
    "from astropy.io import ascii\n",
    "from PIL import Image\n",
    "import numpy as np"
   ]
  },
  {
   "cell_type": "code",
   "execution_count": 3,
   "metadata": {
    "collapsed": false
   },
   "outputs": [
    {
     "data": {
      "text/html": [
       "&lt;Table length=732&gt;\n",
       "<table id=\"table2193458984776\" class=\"table-striped table-bordered table-condensed\">\n",
       "<thead><tr><th>col1</th><th>col2</th><th>col3</th><th>col4</th><th>col5</th><th>col6</th><th>col7</th><th>col8</th><th>col9</th><th>col10</th></tr></thead>\n",
       "<thead><tr><th>int32</th><th>int32</th><th>int32</th><th>float64</th><th>float64</th><th>float64</th><th>float64</th><th>float64</th><th>float64</th><th>float64</th></tr></thead>\n",
       "<tr><td>1958</td><td>1</td><td>21200</td><td>1958.0411</td><td>-99.99</td><td>-99.99</td><td>-99.99</td><td>-99.99</td><td>-99.99</td><td>-99.99</td></tr>\n",
       "<tr><td>1958</td><td>2</td><td>21231</td><td>1958.126</td><td>-99.99</td><td>-99.99</td><td>-99.99</td><td>-99.99</td><td>-99.99</td><td>-99.99</td></tr>\n",
       "<tr><td>1958</td><td>3</td><td>21259</td><td>1958.2027</td><td>315.69</td><td>314.43</td><td>316.19</td><td>314.9</td><td>315.69</td><td>314.43</td></tr>\n",
       "<tr><td>1958</td><td>4</td><td>21290</td><td>1958.2877</td><td>317.46</td><td>315.15</td><td>317.3</td><td>314.99</td><td>317.46</td><td>315.15</td></tr>\n",
       "<tr><td>1958</td><td>5</td><td>21320</td><td>1958.3699</td><td>317.51</td><td>314.73</td><td>317.84</td><td>315.06</td><td>317.51</td><td>314.73</td></tr>\n",
       "<tr><td>1958</td><td>6</td><td>21351</td><td>1958.4548</td><td>-99.99</td><td>-99.99</td><td>317.23</td><td>315.15</td><td>317.23</td><td>315.15</td></tr>\n",
       "<tr><td>1958</td><td>7</td><td>21381</td><td>1958.537</td><td>315.86</td><td>315.18</td><td>315.88</td><td>315.22</td><td>315.86</td><td>315.18</td></tr>\n",
       "<tr><td>1958</td><td>8</td><td>21412</td><td>1958.6219</td><td>314.93</td><td>316.17</td><td>314.02</td><td>315.29</td><td>314.93</td><td>316.17</td></tr>\n",
       "<tr><td>1958</td><td>9</td><td>21443</td><td>1958.7068</td><td>313.21</td><td>316.07</td><td>312.48</td><td>315.36</td><td>313.21</td><td>316.07</td></tr>\n",
       "<tr><td>1958</td><td>10</td><td>21473</td><td>1958.789</td><td>-99.99</td><td>-99.99</td><td>312.46</td><td>315.41</td><td>312.46</td><td>315.41</td></tr>\n",
       "<tr><td>...</td><td>...</td><td>...</td><td>...</td><td>...</td><td>...</td><td>...</td><td>...</td><td>...</td><td>...</td></tr>\n",
       "<tr><td>2018</td><td>3</td><td>43174</td><td>2018.2027</td><td>-99.99</td><td>-99.99</td><td>-99.99</td><td>-99.99</td><td>-99.99</td><td>-99.99</td></tr>\n",
       "<tr><td>2018</td><td>4</td><td>43205</td><td>2018.2877</td><td>-99.99</td><td>-99.99</td><td>-99.99</td><td>-99.99</td><td>-99.99</td><td>-99.99</td></tr>\n",
       "<tr><td>2018</td><td>5</td><td>43235</td><td>2018.3699</td><td>-99.99</td><td>-99.99</td><td>-99.99</td><td>-99.99</td><td>-99.99</td><td>-99.99</td></tr>\n",
       "<tr><td>2018</td><td>6</td><td>43266</td><td>2018.4548</td><td>-99.99</td><td>-99.99</td><td>-99.99</td><td>-99.99</td><td>-99.99</td><td>-99.99</td></tr>\n",
       "<tr><td>2018</td><td>7</td><td>43296</td><td>2018.537</td><td>-99.99</td><td>-99.99</td><td>-99.99</td><td>-99.99</td><td>-99.99</td><td>-99.99</td></tr>\n",
       "<tr><td>2018</td><td>8</td><td>43327</td><td>2018.6219</td><td>-99.99</td><td>-99.99</td><td>-99.99</td><td>-99.99</td><td>-99.99</td><td>-99.99</td></tr>\n",
       "<tr><td>2018</td><td>9</td><td>43358</td><td>2018.7068</td><td>-99.99</td><td>-99.99</td><td>-99.99</td><td>-99.99</td><td>-99.99</td><td>-99.99</td></tr>\n",
       "<tr><td>2018</td><td>10</td><td>43388</td><td>2018.789</td><td>-99.99</td><td>-99.99</td><td>-99.99</td><td>-99.99</td><td>-99.99</td><td>-99.99</td></tr>\n",
       "<tr><td>2018</td><td>11</td><td>43419</td><td>2018.874</td><td>-99.99</td><td>-99.99</td><td>-99.99</td><td>-99.99</td><td>-99.99</td><td>-99.99</td></tr>\n",
       "<tr><td>2018</td><td>12</td><td>43449</td><td>2018.9562</td><td>-99.99</td><td>-99.99</td><td>-99.99</td><td>-99.99</td><td>-99.99</td><td>-99.99</td></tr>\n",
       "</table>"
      ],
      "text/plain": [
       "<Table length=732>\n",
       " col1  col2  col3    col4     col5    col6    col7    col8    col9   col10 \n",
       "int32 int32 int32  float64  float64 float64 float64 float64 float64 float64\n",
       "----- ----- ----- --------- ------- ------- ------- ------- ------- -------\n",
       " 1958     1 21200 1958.0411  -99.99  -99.99  -99.99  -99.99  -99.99  -99.99\n",
       " 1958     2 21231  1958.126  -99.99  -99.99  -99.99  -99.99  -99.99  -99.99\n",
       " 1958     3 21259 1958.2027  315.69  314.43  316.19   314.9  315.69  314.43\n",
       " 1958     4 21290 1958.2877  317.46  315.15   317.3  314.99  317.46  315.15\n",
       " 1958     5 21320 1958.3699  317.51  314.73  317.84  315.06  317.51  314.73\n",
       " 1958     6 21351 1958.4548  -99.99  -99.99  317.23  315.15  317.23  315.15\n",
       " 1958     7 21381  1958.537  315.86  315.18  315.88  315.22  315.86  315.18\n",
       " 1958     8 21412 1958.6219  314.93  316.17  314.02  315.29  314.93  316.17\n",
       " 1958     9 21443 1958.7068  313.21  316.07  312.48  315.36  313.21  316.07\n",
       " 1958    10 21473  1958.789  -99.99  -99.99  312.46  315.41  312.46  315.41\n",
       "  ...   ...   ...       ...     ...     ...     ...     ...     ...     ...\n",
       " 2018     3 43174 2018.2027  -99.99  -99.99  -99.99  -99.99  -99.99  -99.99\n",
       " 2018     4 43205 2018.2877  -99.99  -99.99  -99.99  -99.99  -99.99  -99.99\n",
       " 2018     5 43235 2018.3699  -99.99  -99.99  -99.99  -99.99  -99.99  -99.99\n",
       " 2018     6 43266 2018.4548  -99.99  -99.99  -99.99  -99.99  -99.99  -99.99\n",
       " 2018     7 43296  2018.537  -99.99  -99.99  -99.99  -99.99  -99.99  -99.99\n",
       " 2018     8 43327 2018.6219  -99.99  -99.99  -99.99  -99.99  -99.99  -99.99\n",
       " 2018     9 43358 2018.7068  -99.99  -99.99  -99.99  -99.99  -99.99  -99.99\n",
       " 2018    10 43388  2018.789  -99.99  -99.99  -99.99  -99.99  -99.99  -99.99\n",
       " 2018    11 43419  2018.874  -99.99  -99.99  -99.99  -99.99  -99.99  -99.99\n",
       " 2018    12 43449 2018.9562  -99.99  -99.99  -99.99  -99.99  -99.99  -99.99"
      ]
     },
     "execution_count": 3,
     "metadata": {},
     "output_type": "execute_result"
    }
   ],
   "source": [
    "co2Table = ascii.read('monthly_in_situ_co2_mlo.csv',data_start=57)\n",
    "\n",
    "co2Table"
   ]
  },
  {
   "cell_type": "code",
   "execution_count": 18,
   "metadata": {
    "collapsed": false
   },
   "outputs": [
    {
     "data": {
      "text/plain": [
       "720"
      ]
     },
     "execution_count": 18,
     "metadata": {},
     "output_type": "execute_result"
    }
   ],
   "source": [
    "np.sum(co2Table['col9']>0)"
   ]
  },
  {
   "cell_type": "code",
   "execution_count": 26,
   "metadata": {
    "collapsed": true
   },
   "outputs": [],
   "source": [
    "co2Texture = Image.new(\"RGB\",(720,1))"
   ]
  },
  {
   "cell_type": "code",
   "execution_count": 27,
   "metadata": {
    "collapsed": false
   },
   "outputs": [],
   "source": [
    "i=0\n",
    "for monthData in co2Table:\n",
    "    valR=max(0,int(np.floor(monthData['col9'])-300))\n",
    "    valG=int(256.0*(monthData['col9']-np.floor(monthData['col9'])))\n",
    "    if (monthData['col9']>0.):\n",
    "        co2Texture.putpixel((i,0),(valR,valG,0))\n",
    "        i=i+1"
   ]
  },
  {
   "cell_type": "code",
   "execution_count": 34,
   "metadata": {
    "collapsed": false
   },
   "outputs": [
    {
     "data": {
      "image/png": "[encoded data removed]",
      "text/plain": [
       "<PIL.Image.Image image mode=RGB size=720x1 at 0x1FEB44976A0>"
      ]
     },
     "execution_count": 34,
     "metadata": {},
     "output_type": "execute_result"
    }
   ],
   "source": [
    "co2Texture"
   ]
  },
  {
   "cell_type": "code",
   "execution_count": 35,
   "metadata": {
    "collapsed": false
   },
   "outputs": [],
   "source": [
    "co2Texture.save('../data/co2.png')"
   ]
  },
  {
   "cell_type": "code",
   "execution_count": 33,
   "metadata": {
    "collapsed": false
   },
   "outputs": [
    {
     "data": {
      "text/plain": [
       "2018.9562000000001"
      ]
     },
     "execution_count": 33,
     "metadata": {},
     "output_type": "execute_result"
    }
   ],
   "source": [
    "np.max(co2Table['col4'])"
   ]
  },
  {
   "cell_type": "markdown",
   "metadata": {},
   "source": [
    "## Global Temperature Anomoly\n",
    "\n",
    "The dataset comes from the Goddard Institute for Space Studies: https://data.giss.nasa.gov/gistemp/"
   ]
  },
  {
   "cell_type": "code",
   "execution_count": 10,
   "metadata": {
    "collapsed": false
   },
   "outputs": [],
   "source": [
    "from astropy.io import ascii\n",
    "from astropy.table import Table, Column"
   ]
  },
  {
   "cell_type": "code",
   "execution_count": 14,
   "metadata": {
    "collapsed": true
   },
   "outputs": [],
   "source": [
    "dtTable = ascii.read('rawdata/GLB.Ts.csv',header_start=1,data_start=2)"
   ]
  },
  {
   "cell_type": "code",
   "execution_count": 15,
   "metadata": {
    "collapsed": false
   },
   "outputs": [
    {
     "data": {
      "text/html": [
       "&lt;Table length=139&gt;\n",
       "<table id=\"table2473438239936\" class=\"table-striped table-bordered table-condensed\">\n",
       "<thead><tr><th>Year</th><th>Jan</th><th>Feb</th><th>Mar</th><th>Apr</th><th>May</th><th>Jun</th><th>Jul</th><th>Aug</th><th>Sep</th><th>Oct</th><th>Nov</th><th>Dec</th><th>J-D</th><th>D-N</th><th>DJF</th><th>MAM</th><th>JJA</th><th>SON</th></tr></thead>\n",
       "<thead><tr><th>int32</th><th>float64</th><th>str5</th><th>str4</th><th>str4</th><th>str5</th><th>str5</th><th>str4</th><th>str4</th><th>str4</th><th>str4</th><th>str4</th><th>str4</th><th>str4</th><th>str4</th><th>str4</th><th>str4</th><th>str4</th><th>str4</th></tr></thead>\n",
       "<tr><td>1880</td><td>-0.8</td><td>-.37</td><td>-.45</td><td>-.64</td><td>-.34</td><td>-.47</td><td>-.46</td><td>.10</td><td>-.47</td><td>-.65</td><td>-.49</td><td>-.51</td><td>-.46</td><td>***</td><td>***</td><td>-.47</td><td>-.28</td><td>-.54</td></tr>\n",
       "<tr><td>1881</td><td>-0.76</td><td>-.59</td><td>-.34</td><td>-.24</td><td>.00</td><td>-1.09</td><td>-.50</td><td>-.21</td><td>-.31</td><td>-.45</td><td>-.53</td><td>-.11</td><td>-.43</td><td>-.46</td><td>-.62</td><td>-.19</td><td>-.60</td><td>-.43</td></tr>\n",
       "<tr><td>1882</td><td>0.15</td><td>-.08</td><td>-.05</td><td>-.55</td><td>-.34</td><td>-.99</td><td>-.67</td><td>-.08</td><td>-.04</td><td>-.28</td><td>-.36</td><td>-.64</td><td>-.33</td><td>-.28</td><td>-.01</td><td>-.31</td><td>-.58</td><td>-.23</td></tr>\n",
       "<tr><td>1883</td><td>-0.65</td><td>-.91</td><td>-.43</td><td>-.28</td><td>-.32</td><td>.47</td><td>.02</td><td>-.12</td><td>-.42</td><td>-.53</td><td>-.66</td><td>-.36</td><td>-.35</td><td>-.37</td><td>-.73</td><td>-.34</td><td>.12</td><td>-.54</td></tr>\n",
       "<tr><td>1884</td><td>-0.57</td><td>-.31</td><td>-.37</td><td>-.91</td><td>-1.16</td><td>-.79</td><td>-.81</td><td>.19</td><td>-.33</td><td>-.74</td><td>-.78</td><td>-.96</td><td>-.63</td><td>-.58</td><td>-.41</td><td>-.81</td><td>-.47</td><td>-.62</td></tr>\n",
       "<tr><td>1885</td><td>-0.89</td><td>-.76</td><td>-.88</td><td>-.83</td><td>-.45</td><td>-.90</td><td>-.59</td><td>-.12</td><td>-.12</td><td>.00</td><td>-.34</td><td>.05</td><td>-.49</td><td>-.57</td><td>-.87</td><td>-.72</td><td>-.54</td><td>-.15</td></tr>\n",
       "<tr><td>1886</td><td>-0.72</td><td>-.79</td><td>-.65</td><td>-.58</td><td>-.53</td><td>-.81</td><td>-.36</td><td>-.69</td><td>-.38</td><td>-.82</td><td>-.45</td><td>-.71</td><td>-.63</td><td>-.56</td><td>-.49</td><td>-.59</td><td>-.62</td><td>-.55</td></tr>\n",
       "<tr><td>1887</td><td>-0.84</td><td>-1.24</td><td>-.56</td><td>-.81</td><td>-.83</td><td>-.64</td><td>-.38</td><td>-.23</td><td>-.59</td><td>-.52</td><td>-.89</td><td>-.63</td><td>-.68</td><td>-.69</td><td>-.93</td><td>-.73</td><td>-.42</td><td>-.67</td></tr>\n",
       "<tr><td>1888</td><td>-0.7</td><td>-.79</td><td>-.87</td><td>-.28</td><td>-.72</td><td>-.52</td><td>-.33</td><td>-.32</td><td>-.38</td><td>-.24</td><td>-.02</td><td>-.14</td><td>-.44</td><td>-.48</td><td>-.70</td><td>-.62</td><td>-.39</td><td>-.22</td></tr>\n",
       "<tr><td>1889</td><td>-0.25</td><td>.21</td><td>.10</td><td>.16</td><td>.15</td><td>-.26</td><td>-.37</td><td>-.56</td><td>-.33</td><td>-.16</td><td>-.40</td><td>-.41</td><td>-.18</td><td>-.16</td><td>-.06</td><td>.14</td><td>-.40</td><td>-.30</td></tr>\n",
       "<tr><td>...</td><td>...</td><td>...</td><td>...</td><td>...</td><td>...</td><td>...</td><td>...</td><td>...</td><td>...</td><td>...</td><td>...</td><td>...</td><td>...</td><td>...</td><td>...</td><td>...</td><td>...</td><td>...</td></tr>\n",
       "<tr><td>2009</td><td>0.75</td><td>.75</td><td>.66</td><td>.75</td><td>.84</td><td>.81</td><td>.87</td><td>.85</td><td>.90</td><td>.73</td><td>.83</td><td>.77</td><td>.79</td><td>.79</td><td>.74</td><td>.75</td><td>.84</td><td>.82</td></tr>\n",
       "<tr><td>2010</td><td>0.98</td><td>1.06</td><td>1.13</td><td>1.00</td><td>.97</td><td>.85</td><td>.74</td><td>.83</td><td>.85</td><td>.95</td><td>1.01</td><td>.70</td><td>.92</td><td>.93</td><td>.94</td><td>1.03</td><td>.80</td><td>.94</td></tr>\n",
       "<tr><td>2011</td><td>0.72</td><td>.69</td><td>.77</td><td>.82</td><td>.64</td><td>.72</td><td>.91</td><td>.96</td><td>.77</td><td>.83</td><td>.78</td><td>.80</td><td>.78</td><td>.78</td><td>.70</td><td>.74</td><td>.86</td><td>.80</td></tr>\n",
       "<tr><td>2012</td><td>0.62</td><td>.58</td><td>.70</td><td>.80</td><td>.93</td><td>.72</td><td>.57</td><td>.85</td><td>.89</td><td>.92</td><td>.94</td><td>.72</td><td>.77</td><td>.78</td><td>.67</td><td>.81</td><td>.72</td><td>.92</td></tr>\n",
       "<tr><td>2013</td><td>0.98</td><td>.75</td><td>.85</td><td>.66</td><td>.66</td><td>.87</td><td>.66</td><td>.79</td><td>1.01</td><td>.86</td><td>.89</td><td>.84</td><td>.82</td><td>.81</td><td>.81</td><td>.72</td><td>.77</td><td>.92</td></tr>\n",
       "<tr><td>2014</td><td>0.96</td><td>.67</td><td>.78</td><td>.89</td><td>1.05</td><td>.78</td><td>.72</td><td>.85</td><td>1.10</td><td>1.01</td><td>.80</td><td>.98</td><td>.88</td><td>.87</td><td>.82</td><td>.91</td><td>.78</td><td>.97</td></tr>\n",
       "<tr><td>2015</td><td>0.95</td><td>1.08</td><td>1.11</td><td>.78</td><td>.85</td><td>.85</td><td>.70</td><td>.89</td><td>.81</td><td>1.20</td><td>1.19</td><td>1.39</td><td>.98</td><td>.95</td><td>1.00</td><td>.91</td><td>.81</td><td>1.07</td></tr>\n",
       "<tr><td>2016</td><td>1.36</td><td>1.65</td><td>1.64</td><td>1.35</td><td>1.15</td><td>.91</td><td>.97</td><td>1.30</td><td>1.10</td><td>1.21</td><td>1.18</td><td>1.12</td><td>1.24</td><td>1.27</td><td>1.47</td><td>1.38</td><td>1.06</td><td>1.16</td></tr>\n",
       "<tr><td>2017</td><td>1.13</td><td>1.42</td><td>1.38</td><td>1.16</td><td>1.22</td><td>.79</td><td>1.06</td><td>1.09</td><td>.96</td><td>1.15</td><td>1.04</td><td>1.17</td><td>1.13</td><td>1.13</td><td>1.23</td><td>1.25</td><td>.98</td><td>1.05</td></tr>\n",
       "<tr><td>2018</td><td>1.03</td><td>***</td><td>***</td><td>***</td><td>***</td><td>***</td><td>***</td><td>***</td><td>***</td><td>***</td><td>***</td><td>***</td><td>***</td><td>***</td><td>***</td><td>***</td><td>***</td><td>***</td></tr>\n",
       "</table>"
      ],
      "text/plain": [
       "<Table length=139>\n",
       " Year   Jan    Feb  Mar  Apr   May   Jun  ... Dec  J-D  D-N  DJF  MAM  JJA  SON \n",
       "int32 float64  str5 str4 str4  str5  str5 ... str4 str4 str4 str4 str4 str4 str4\n",
       "----- ------- ----- ---- ---- ----- ----- ... ---- ---- ---- ---- ---- ---- ----\n",
       " 1880    -0.8  -.37 -.45 -.64  -.34  -.47 ... -.51 -.46  ***  *** -.47 -.28 -.54\n",
       " 1881   -0.76  -.59 -.34 -.24   .00 -1.09 ... -.11 -.43 -.46 -.62 -.19 -.60 -.43\n",
       " 1882    0.15  -.08 -.05 -.55  -.34  -.99 ... -.64 -.33 -.28 -.01 -.31 -.58 -.23\n",
       " 1883   -0.65  -.91 -.43 -.28  -.32   .47 ... -.36 -.35 -.37 -.73 -.34  .12 -.54\n",
       " 1884   -0.57  -.31 -.37 -.91 -1.16  -.79 ... -.96 -.63 -.58 -.41 -.81 -.47 -.62\n",
       " 1885   -0.89  -.76 -.88 -.83  -.45  -.90 ...  .05 -.49 -.57 -.87 -.72 -.54 -.15\n",
       " 1886   -0.72  -.79 -.65 -.58  -.53  -.81 ... -.71 -.63 -.56 -.49 -.59 -.62 -.55\n",
       " 1887   -0.84 -1.24 -.56 -.81  -.83  -.64 ... -.63 -.68 -.69 -.93 -.73 -.42 -.67\n",
       " 1888    -0.7  -.79 -.87 -.28  -.72  -.52 ... -.14 -.44 -.48 -.70 -.62 -.39 -.22\n",
       " 1889   -0.25   .21  .10  .16   .15  -.26 ... -.41 -.18 -.16 -.06  .14 -.40 -.30\n",
       "  ...     ...   ...  ...  ...   ...   ... ...  ...  ...  ...  ...  ...  ...  ...\n",
       " 2009    0.75   .75  .66  .75   .84   .81 ...  .77  .79  .79  .74  .75  .84  .82\n",
       " 2010    0.98  1.06 1.13 1.00   .97   .85 ...  .70  .92  .93  .94 1.03  .80  .94\n",
       " 2011    0.72   .69  .77  .82   .64   .72 ...  .80  .78  .78  .70  .74  .86  .80\n",
       " 2012    0.62   .58  .70  .80   .93   .72 ...  .72  .77  .78  .67  .81  .72  .92\n",
       " 2013    0.98   .75  .85  .66   .66   .87 ...  .84  .82  .81  .81  .72  .77  .92\n",
       " 2014    0.96   .67  .78  .89  1.05   .78 ...  .98  .88  .87  .82  .91  .78  .97\n",
       " 2015    0.95  1.08 1.11  .78   .85   .85 ... 1.39  .98  .95 1.00  .91  .81 1.07\n",
       " 2016    1.36  1.65 1.64 1.35  1.15   .91 ... 1.12 1.24 1.27 1.47 1.38 1.06 1.16\n",
       " 2017    1.13  1.42 1.38 1.16  1.22   .79 ... 1.17 1.13 1.13 1.23 1.25  .98 1.05\n",
       " 2018    1.03   ***  ***  ***   ***   *** ...  ***  ***  ***  ***  ***  ***  ***"
      ]
     },
     "execution_count": 15,
     "metadata": {},
     "output_type": "execute_result"
    }
   ],
   "source": [
    "dtTable"
   ]
  },
  {
   "cell_type": "code",
   "execution_count": 50,
   "metadata": {
    "collapsed": false
   },
   "outputs": [],
   "source": [
    "monthTable = Table(names=('theta', 'z', 'Year','Month','dT'))"
   ]
  },
  {
   "cell_type": "code",
   "execution_count": 52,
   "metadata": {
    "collapsed": false
   },
   "outputs": [
    {
     "name": "stdout",
     "output_type": "stream",
     "text": [
      "2018 1\n",
      "2018 2\n",
      "2018 3\n",
      "2018 4\n",
      "2018 5\n",
      "2018 6\n",
      "2018 7\n",
      "2018 8\n",
      "2018 9\n",
      "2018 10\n",
      "2018 11\n"
     ]
    }
   ],
   "source": [
    "for yearRow in dtTable:\n",
    "    for month in range(12):\n",
    "        if (yearRow[month+1]!='***'):\n",
    "            monthTable.add_row([6.283*month/12.,yearRow[month+1],yearRow[0],month,yearRow[month+1]])\n",
    "        else:\n",
    "            print(yearRow[0],month)"
   ]
  },
  {
   "cell_type": "code",
   "execution_count": 94,
   "metadata": {
    "collapsed": false
   },
   "outputs": [],
   "source": [
    "monthTable.write('data/GLB.Ts.UV.csv',format='ascii.no_header',overwrite=True,delimiter=',')"
   ]
  },
  {
   "cell_type": "markdown",
   "metadata": {},
   "source": [
    "## Global Temp Texture"
   ]
  },
  {
   "cell_type": "code",
   "execution_count": 18,
   "metadata": {
    "collapsed": true
   },
   "outputs": [],
   "source": [
    "tempTexture = Image.new(\"RGB\",(138,1))\n"
   ]
  },
  {
   "cell_type": "code",
   "execution_count": 21,
   "metadata": {
    "collapsed": false
   },
   "outputs": [],
   "source": [
    "for i in range(138):\n",
    "    tempTexture.putpixel((i,0),(int(100.*(float(dtTable['J-D'][i])+1.28)),0,0))\n"
   ]
  },
  {
   "cell_type": "code",
   "execution_count": 24,
   "metadata": {
    "collapsed": false
   },
   "outputs": [],
   "source": [
    "tempTexture.save('data/JmD.png')"
   ]
  },
  {
   "cell_type": "markdown",
   "metadata": {},
   "source": [
    "### Create colormap texture"
   ]
  },
  {
   "cell_type": "code",
   "execution_count": 23,
   "metadata": {
    "collapsed": false
   },
   "outputs": [
    {
     "data": {
      "image/png": "[encoded data removed]",
      "text/plain": [
       "<matplotlib.figure.Figure at 0x1bba7584b38>"
      ]
     },
     "metadata": {},
     "output_type": "display_data"
    }
   ],
   "source": [
    "import numpy as np\n",
    "import matplotlib.pyplot as plt\n",
    "from matplotlib import cm\n",
    "\n",
    "gradient = np.linspace(0, 1, 256)\n",
    "gradient = np.vstack((gradient, gradient))\n",
    "\n",
    "def plot_cmap(colormap):\n",
    "    fig=plt.imshow(gradient, aspect=1, cmap=colormap)\n",
    "    plt.axis('off')\n",
    "    fig.axes.get_xaxis().set_visible(False)\n",
    "    fig.axes.get_yaxis().set_visible(False)\n",
    "    plt.savefig(\"data/cmap.png\", bbox_inches='tight',pad_inches=0)\n",
    "\n",
    "plot_cmap('coolwarm')\n",
    "\n",
    "plt.show()"
   ]
  },
  {
   "cell_type": "code",
   "execution_count": null,
   "metadata": {
    "collapsed": true
   },
   "outputs": [],
   "source": []
  }
 ],
 "metadata": {
  "anaconda-cloud": {},
  "kernelspec": {
   "display_name": "Python [default]",
   "language": "python",
   "name": "python3"
  },
  "language_info": {
   "codemirror_mode": {
    "name": "ipython",
    "version": 3
   },
   "file_extension": ".py",
   "mimetype": "text/x-python",
   "name": "python",
   "nbconvert_exporter": "python",
   "pygments_lexer": "ipython3",
   "version": "3.5.2"
  }
 },
 "nbformat": 4,
 "nbformat_minor": 0
}
