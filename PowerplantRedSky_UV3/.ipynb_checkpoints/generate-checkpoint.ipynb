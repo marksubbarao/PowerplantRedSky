{
 "cells": [
  {
   "cell_type": "markdown",
   "metadata": {},
   "source": [
    "### Imports and function definitions"
   ]
  },
  {
   "cell_type": "code",
   "execution_count": 39,
   "metadata": {
    "collapsed": false
   },
   "outputs": [],
   "source": [
    "#This directory contains all the data needed for the module. It should be in the same directory as the notebook\n",
    "dataFolder = \"data\" \n",
    "import sys, os, shutil, errno, string, urllib\n",
    "\n",
    "\n",
    "sys.path.append(( os.path.abspath( os.path.join(os.path.realpath(\"__file__\"),  os.pardir, os.pardir, os.pardir) )))\n",
    "import uvmodlib.v1 as uvmod"
   ]
  },
  {
   "cell_type": "code",
   "execution_count": 40,
   "metadata": {
    "collapsed": true
   },
   "outputs": [],
   "source": [
    "# Run this if you want to build in 3.0 rather than 2.0\n",
    "from config import Settings\n",
    "Settings.uvcustommodulelocation='C:\\\\Users\\\\msubbarao\\\\SCISS\\\\Uniview Theater 3.0\\\\Custom Modules'"
   ]
  },
  {
   "cell_type": "markdown",
   "metadata": {},
   "source": [
    "### USES Conf Template "
   ]
  },
  {
   "cell_type": "code",
   "execution_count": 41,
   "metadata": {
    "collapsed": true
   },
   "outputs": [],
   "source": [
    "Template = \"\"\"mesh\n",
    "{  \n",
    "    data panaorama ./modules/$folderName/sphere.obj\n",
    "    cullRadius $cr\n",
    "    glslVersion 330\n",
    "    \n",
    "    propertyCollection \n",
    "    {        \n",
    "        __objectName__\n",
    "        {           \n",
    "            vec4f Rotation      $Rotation\n",
    "            vec1f redInjectValue  0 | public | desc \"strength of red tint\" | widget slider | range 0 1\n",
    "    }\n",
    "    }\n",
    "    pass\n",
    "    {\n",
    "        useDataObject panaorama\n",
    "        shader\n",
    "        {\n",
    "            type defaultMeshShader\n",
    "            {\n",
    "                fragmentShader   ./modules/$folderName/redPanorama.fs\n",
    "                vertexShader ./modules/$folderName/equirectangularPanorama.vs\n",
    "                texture panorama ./modules/$folderName/$panorama\n",
    "                {\n",
    "                }\n",
    "                \n",
    "                stateManagerVar __objectName__.Rotation             Rotation\n",
    "                stateManagerVar __objectName__.Alpha                uv_alpha\n",
    "                stateManagerVar __objectName__.redInjectValue       redInjectValue\n",
    "                \n",
    "                glState\n",
    "                {\n",
    "                    UV_CULL_FACE_ENABLE false\n",
    "                    #UV_CULL_MODE GL_FRONT\n",
    "                    UV_BLEND_ENABLE true\n",
    "                    UV_BLEND_FUNC GL_SRC_ALPHA GL_ONE_MINUS_SRC_ALPHA\n",
    "                }\n",
    "            }\n",
    "\n",
    "        }    \n",
    "    }\n",
    "    \n",
    "}\"\"\""
   ]
  },
  {
   "cell_type": "code",
   "execution_count": 42,
   "metadata": {
    "collapsed": true
   },
   "outputs": [],
   "source": [
    "graphTemplate = \"\"\"mesh\n",
    "{\n",
    " cullRadius 2\n",
    "  data  graph ./modules/KeelingCurve/shaders/graph.obj\n",
    "  glslVersion 330 \n",
    "  enableTypeCheck true\n",
    "  propertyCollection\n",
    "    {\n",
    "        KeelingCurve\n",
    "        {\n",
    "            vec1f KeelingCurveYearPlot 2016 | public | desc \"display year\" | widget slider | range 1958 2019\n",
    "            vec3f posOffset 0 0 0\n",
    "            vec4f Rotation 1 0 0  0\n",
    "        }\n",
    "\n",
    "    }\n",
    "\n",
    "  pass\n",
    "    {\n",
    "        useDataObject graph\n",
    "        shader\n",
    "        {\n",
    "            type defaultMeshShader\n",
    "            {\n",
    "                vertexShader ./modules/$folderName/kc_graph_vertex.glsl\n",
    "                fragmentShader ./modules/$folderName/kc_graph_fragment.glsl\n",
    "                StateManagerVar  __objectName__.KeelingCurveYearPlot yearPlot\n",
    "                StateManagerVar  __objectName__.posOffset posOffset\n",
    "                StateManagerVar  __objectName__.Rotation Rotation\n",
    "                StateManagerVar  __objectName__.Alpha alpha\n",
    "                texture yearLabels ./modules/KeelingCurve/shaders/years.png\n",
    "                {\n",
    "                }\n",
    "                texture co2Labels ./modules/$folderName/co2labs.png\n",
    "                {\n",
    "                }\n",
    "                texture KeelingTitle ./modules/$folderName/KeelingTitle.png\n",
    "                {\n",
    "                }\n",
    "                texture tempData ./modules/$folderName/co2.png\n",
    "                {\n",
    "                    magnify GL_NEAREST\n",
    "                    minify GL_NEAREST                \n",
    "                    wrapModeS GL_CLAMP_TO_EDGE\n",
    "                    wrapModeR GL_CLAMP_TO_EDGE\n",
    "                    colorspace linear\n",
    "                }\n",
    "\n",
    "                glState\n",
    "                {\n",
    "                    # additive blending\n",
    "                    UV_BLEND_FUNC GL_SRC_ALPHA GL_ONE_MINUS_SRC_ALPHA\n",
    "                    UV_DEPTH_ENABLE true\n",
    "                    UV_BLEND_ENABLE true\n",
    "                    UV_WRITE_MASK_DEPTH true\n",
    "                    UV_CULL_FACE_ENABLE false\n",
    "                }\n",
    "            }\n",
    "        }\n",
    "    }\n",
    "}\"\"\""
   ]
  },
  {
   "cell_type": "markdown",
   "metadata": {},
   "source": [
    "### Module Classes"
   ]
  },
  {
   "cell_type": "code",
   "execution_count": 43,
   "metadata": {
    "collapsed": true
   },
   "outputs": [],
   "source": [
    "class PowerPlantRedSky():\n",
    "    def __init__(self, object):\n",
    "        self.object = object\n",
    "        uvmod.Utility.ensurerelativepathexsists(\"sphere.obj\",dataFolder)\n",
    "        uvmod.Utility.ensurerelativepathexsists(\"equirectangularPanorama.vs\",dataFolder)\n",
    "        uvmod.Utility.ensurerelativepathexsists(\"redPanorama.fs\",dataFolder)\n",
    "        self.panorama = \"UNITIALIZED\"\n",
    "        self.ColorMultiplier = \"1 1 1 1\"\n",
    "        self.Scale = 2000\n",
    "        self.Rotation = \"1 0 0 0\"\n",
    "        self.cr = 2\n",
    "        self.displayFraction = 0.0\n",
    "    def setPanorama(self, panorama):\n",
    "        uvmod.Utility.ensurerelativepathexsists(panorama,dataFolder)\n",
    "        self.panorama = panorama\n",
    "    def setColorMultiplier(self,ColorMultiplier):\n",
    "        self.ColorMultiplier = \" \".join(str(c) for c in ColorMultiplier)\n",
    "    def setScale(self,Scale):\n",
    "        self.Scale = Scale\n",
    "    def setRotation(self,Rotation):\n",
    "        self.RotationAxis = \" \".join(str(c) for c in Rotation)\n",
    "    def setDisplayFraction(self,displayFraction):\n",
    "        self.displayFraction = displayFraction\n",
    "    def generatemod(self):\n",
    "        self.object.setgeometry(self.object.name+\"Mesh.usesconf\")\n",
    "        return self.object.generatemod()\n",
    "    def generatefiles(self, absOutDir, relOutDir):\n",
    "        fileName = self.object.name+\"Mesh.usesconf\"\n",
    "        s = string.Template(Template)\n",
    "        f = open(absOutDir+\"\\\\\"+fileName, 'w')\n",
    "        if f:\n",
    "            f.write(s.substitute(folderName = relOutDir,\n",
    "                                 cr = self.cr,\n",
    "                                 panorama = self.panorama,\n",
    "                                 ColorMultiplier = self.ColorMultiplier,\n",
    "                                 Scale = self.Scale,\n",
    "                                 displayFraction = self.displayFraction,\n",
    "                                 Rotation = self.Rotation))\n",
    "            f.close()\n",
    "        uvmod.Utility.copyfoldercontents(os.getcwd()+\"\\\\\"+dataFolder, absOutDir)"
   ]
  },
  {
   "cell_type": "code",
   "execution_count": 44,
   "metadata": {
    "collapsed": true
   },
   "outputs": [],
   "source": [
    "class KeelingCurve():\n",
    "    def __init__(self, object):\n",
    "        self.object = object\n",
    "        self.Scale = 500\n",
    "        uvmod.Utility.ensurerelativepathexsists(\"graph.obj\",dataFolder)\n",
    "        uvmod.Utility.ensurerelativepathexsists(\"kc_graph_fragment.glsl\",dataFolder)\n",
    "        uvmod.Utility.ensurerelativepathexsists(\"kc_graph_vertex.glsl\",dataFolder)\n",
    "    def setPanorama(self, panorama):\n",
    "        uvmod.Utility.ensurerelativepathexsists(panorama,dataFolder)\n",
    "        self.panorama = panorama\n",
    "    def setColorMultiplier(self,ColorMultiplier):\n",
    "        self.ColorMultiplier = \" \".join(str(c) for c in ColorMultiplier)\n",
    "    def setScale(self,Scale):\n",
    "        self.Scale = Scale\n",
    "    def setRotationAxis(self,RotationAxis):\n",
    "        self.RotationAxis = \" \".join(str(c) for c in RotationAxis)\n",
    "    def setRotationAngle(self,RotationAngle):\n",
    "        self.RotationAngle = RotationAngle\n",
    "    def generatemod(self):\n",
    "        self.object.setgeometry(self.object.name+\"Mesh.usesconf\")\n",
    "        return self.object.generatemod()\n",
    "    def generatefiles(self, absOutDir, relOutDir):\n",
    "        fileName = self.object.name+\"Mesh.usesconf\"\n",
    "        s = string.Template(graphTemplate)\n",
    "        f = open(absOutDir+\"\\\\\"+fileName, 'w')\n",
    "        if f:\n",
    "            f.write(s.substitute(folderName = relOutDir,\n",
    "                                 Scale = self.Scale))\n",
    "            f.close()\n",
    "        uvmod.Utility.copyfoldercontents(os.getcwd()+\"\\\\\"+dataFolder, absOutDir)"
   ]
  },
  {
   "cell_type": "markdown",
   "metadata": {},
   "source": [
    "### Object Instantiation"
   ]
  },
  {
   "cell_type": "code",
   "execution_count": 45,
   "metadata": {
    "collapsed": true
   },
   "outputs": [],
   "source": [
    "model = PowerPlantRedSky(uvmod.OrbitalObject())\n",
    "keeling = KeelingCurve(uvmod.OrbitalObject())\n",
    "generator = uvmod.Generator()\n",
    "scene = uvmod.Scene()\n",
    "modinfo = uvmod.ModuleInformation()\n",
    "scene.setname(\"powerplant\")\n",
    "scene.setparent(\"Earth\")\n",
    "scene.setentrydist(100000)\n",
    "scene.setunit(1)\n",
    "scene.setsurfacepositionerrotation(0.,0.,0.)\n",
    "scene.setpositionfile(uvmod.PositionFileTypes.Surface(\"Earth\",  -87.8442, 42.3636, 0.42))\n"
   ]
  },
  {
   "cell_type": "markdown",
   "metadata": {},
   "source": [
    "### Specify Settings and generate the module"
   ]
  },
  {
   "cell_type": "code",
   "execution_count": 46,
   "metadata": {
    "collapsed": false
   },
   "outputs": [],
   "source": [
    "model.object.setcameraradius(10)\n",
    "model.object.setcoord(scene.name)\n",
    "model.object.setname(\"PowerPlantRedSky\")\n",
    "model.object.setguiname(\"/KavliLecture/Schrag/PowerPlantRedSky\")\n",
    "model.object.settargetradius(20)\n",
    "model.object.showatstartup(False)\n",
    "model.setPanorama(\"sPowerPlant2.PNG\")\n",
    "model.setColorMultiplier((1.,1.,1.,1.))\n",
    "model.object.setscalefactor(2500)\n",
    "keeling.object.setcameraradius(10)\n",
    "keeling.object.setcoord(scene.name)\n",
    "keeling.object.setname(\"KeelingCurve\")\n",
    "keeling.object.setguiname(\"/KavliLecture/Schrag/Keeling Curve Graph\")\n",
    "keeling.object.settargetradius(20)\n",
    "keeling.object.showatstartup(False)\n",
    "keeling.object.setscalefactor(500)\n",
    "modinfo.setname(\"PowerPlantRedSky\")\n",
    "modinfo.setauthor(\"Mark SubbaRao<sup>1</sup> Steve Burkland<sup>1</sup>and Daniel Schragg<sup>2</sup><br />(1)Adler Planetarium,br />(2)Harvard University\")\n",
    "modinfo.adddependency(\"Earth\")\n",
    "modinfo.setdesc(\"CO2 as red glow with powerplant background and Keeling Curve Graph\")\n",
    "modinfo.setthumbnail(\"\")\n",
    "modinfo.setversion(\"1.0\")\n",
    "\n",
    "generator.generate(\"PowerPlantRedSky\",[scene],[keeling],modinfo)\n",
    "uvmod.Utility.senduvcommand(model.object.name+\".reload\")"
   ]
  },
  {
   "cell_type": "markdown",
   "metadata": {},
   "source": [
    "### Helper Functions for modifing code\n",
    "##### Reload Module and Shaders in Uniview"
   ]
  },
  {
   "cell_type": "code",
   "execution_count": 27,
   "metadata": {
    "collapsed": false
   },
   "outputs": [],
   "source": [
    "uvmod.Utility.senduvcommand(model.object.name+\".reload; system.reloadallshaders\")"
   ]
  },
  {
   "cell_type": "markdown",
   "metadata": {},
   "source": [
    "Copy modified Shader files and reload"
   ]
  },
  {
   "cell_type": "code",
   "execution_count": 28,
   "metadata": {
    "collapsed": true
   },
   "outputs": [],
   "source": [
    "from config import Settings"
   ]
  },
  {
   "cell_type": "code",
   "execution_count": 30,
   "metadata": {
    "collapsed": false
   },
   "outputs": [],
   "source": [
    "uvmod.Utility.copyfoldercontents(os.getcwd()+\"\\\\\"+dataFolder, Settings.uvcustommodulelocation+'\\\\'+model.object.name)\n",
    "#uvmod.Utility.senduvcommand(model.object.name+\".reload\")\n",
    "uvmod.Utility.senduvcommand(keeling.object.name+\".reload\")\n"
   ]
  },
  {
   "cell_type": "code",
   "execution_count": null,
   "metadata": {
    "collapsed": true
   },
   "outputs": [],
   "source": []
  }
 ],
 "metadata": {
  "anaconda-cloud": {},
  "kernelspec": {
   "display_name": "Python [default]",
   "language": "python",
   "name": "python3"
  },
  "language_info": {
   "codemirror_mode": {
    "name": "ipython",
    "version": 3
   },
   "file_extension": ".py",
   "mimetype": "text/x-python",
   "name": "python",
   "nbconvert_exporter": "python",
   "pygments_lexer": "ipython3",
   "version": "3.5.2"
  }
 },
 "nbformat": 4,
 "nbformat_minor": 1
}
