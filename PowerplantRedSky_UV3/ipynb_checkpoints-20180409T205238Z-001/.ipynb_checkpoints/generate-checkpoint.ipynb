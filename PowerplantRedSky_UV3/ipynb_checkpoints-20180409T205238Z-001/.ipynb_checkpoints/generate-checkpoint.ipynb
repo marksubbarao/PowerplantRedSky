{
 "cells": [
  {
   "cell_type": "markdown",
   "metadata": {},
   "source": [
    "### Imports and function definitions"
   ]
  },
  {
   "cell_type": "code",
   "execution_count": 1,
   "metadata": {
    "collapsed": false
   },
   "outputs": [],
   "source": [
    "#This directory contains all the data needed for the module. It should be in the same directory as the notebook\n",
    "dataFolder = \"data\" \n",
    "import sys, os, shutil, errno, string, urllib\n",
    "\n",
    "\n",
    "sys.path.append(( os.path.abspath( os.path.join(os.path.realpath(\"__file__\"),  os.pardir, os.pardir) )))\n",
    "import uvmodlib.v1 as uvmod"
   ]
  },
  {
   "cell_type": "code",
   "execution_count": 2,
   "metadata": {
    "collapsed": true
   },
   "outputs": [],
   "source": [
    "# Run this if you want to build in 3.0 rather than 2.0\n",
    "from config import Settings\n",
    "Settings.uvcustommodulelocation='C:\\\\Users\\\\msubbarao\\\\SCISS\\\\Uniview Theater 3.0\\\\Custom Modules'"
   ]
  },
  {
   "cell_type": "markdown",
   "metadata": {},
   "source": [
    "### USES Conf Template "
   ]
  },
  {
   "cell_type": "code",
   "execution_count": 3,
   "metadata": {
    "collapsed": true
   },
   "outputs": [],
   "source": [
    "Template = \"\"\"mesh\n",
    "{  \n",
    "    data  panaorama ./modules/$folderName/sphere.obj\n",
    "    cullRadius $cr\n",
    "    glslVersion 330\n",
    "    \n",
    "    propertyCollection \n",
    "    {        \n",
    "        __objectName__\n",
    "        {           \n",
    "            vec4f ColorMultiplier     $ColorMultiplier\n",
    "            vec3f RotationAxis        $RotationAxis\n",
    "            vec1f RotationAngle       $RotationAngle\n",
    "            vec1f displayFraction   $displayFraction | public | desc \"display fraction\" | widget slider | range 0 1\n",
    "            vec1f skyYear   $skyYear | public | desc \"ice core year\" | widget slider | range -402500 -2500\n",
    "            vec1f redZeroPoint  200 | public | desc \"zeropoint of red tint\" | widget slider | range 0 300\n",
    "            vec1f redHighPoint  600 | public | desc \"maxpoint of red tint\" | widget slider | range 300 800 \n",
    "        }\n",
    "    }\n",
    "    pass\n",
    "    {\n",
    "        useDataObject panaorama\n",
    "        shader\n",
    "        {\n",
    "            type defaultMeshShader\n",
    "            {\n",
    "                fragmentShader   ./modules/$folderName/co2Panorama.fs\n",
    "                vertexShader ./modules/$folderName/equirectangularPanorama.vs\n",
    "                \n",
    "                texture panorama ./modules/$folderName/$panorama\n",
    "                {\n",
    "                }\n",
    "                texture co2 ./modules/$folderName/vostok.png\n",
    "                {\n",
    "                    magnify GL_NEAREST\n",
    "                    minify GL_NEAREST                \n",
    "                    wrapModeS GL_CLAMP_TO_EDGE\n",
    "                    wrapModeR GL_CLAMP_TO_EDGE\n",
    "                }\n",
    "                \n",
    "\n",
    "                parameter1f Scale $Scale\n",
    "                parameter2f co2TexDates -402500 -2500\n",
    "                \n",
    "                stateManagerVar __objectName__.ColorMultiplier      ColorMultiplier\n",
    "                stateManagerVar __objectName__.RotationAxis         RotationAxis\n",
    "                stateManagerVar __objectName__.RotationAngle        RotationAngle\n",
    "                stateManagerVar __objectName__.displayFraction      displayFraction\n",
    "                stateManagerVar __objectName__.skyYear              skyYear\n",
    "                stateManagerVar __objectName__.Alpha                uv_alpha\n",
    "                stateManagerVar __objectName__.redZeroPoint      redZeroPoint\n",
    "                stateManagerVar __objectName__.redHighPoint      redHighPoint\n",
    "                \n",
    "                glState\n",
    "                {\n",
    "                    UV_CULL_FACE_ENABLE false\n",
    "                    #UV_CULL_MODE GL_FRONT\n",
    "                    UV_BLEND_ENABLE true\n",
    "                    UV_BLEND_FUNC GL_SRC_ALPHA GL_ONE_MINUS_SRC_ALPHA\n",
    "                }\n",
    "            }\n",
    "\n",
    "        }    \n",
    "    }\n",
    "    \n",
    "}\"\"\""
   ]
  },
  {
   "cell_type": "markdown",
   "metadata": {},
   "source": [
    "### Ice Core class"
   ]
  },
  {
   "cell_type": "code",
   "execution_count": 4,
   "metadata": {
    "collapsed": false
   },
   "outputs": [],
   "source": [
    "class IceCoreRedSky():\n",
    "    def __init__(self, object):\n",
    "        self.object = object\n",
    "        uvmod.Utility.ensurerelativepathexsists(\"sphere.obj\",dataFolder)\n",
    "        uvmod.Utility.ensurerelativepathexsists(\"equirectangularPanorama.vs\",dataFolder)\n",
    "        uvmod.Utility.ensurerelativepathexsists(\"co2Panorama.fs\",dataFolder)\n",
    "        self.panorama = \"UNINITIALIZED\"\n",
    "        self.ColorMultiplier = \"1 1 1 1\"\n",
    "        self.skyYear = -400000\n",
    "        self.Scale = 1\n",
    "        self.RotationAxis = \"1 0 0\"\n",
    "        self.cr = 1000\n",
    "        self.RotationAngle = 0\n",
    "        self.displayFraction = 0.0\n",
    "    def setPanorama(self, panorama):\n",
    "        uvmod.Utility.ensurerelativepathexsists(panorama,dataFolder)\n",
    "        self.panorama = panorama\n",
    "    def setColorMultiplier(self,ColorMultiplier):\n",
    "        self.ColorMultiplier = \" \".join(str(c) for c in ColorMultiplier)\n",
    "    def setScale(self,Scale):\n",
    "        self.Scale = Scale\n",
    "    def setRotationAxis(self,RotationAxis):\n",
    "        self.RotationAxis = \" \".join(str(c) for c in RotationAxis)\n",
    "    def setRotationAngle(self,RotationAngle):\n",
    "        self.RotationAngle = RotationAngle\n",
    "    def setDisplayFraction(self,displayFraction):\n",
    "        self.displayFraction = displayFraction\n",
    "    def setSkyYear(self,skyYear):\n",
    "        self.skyYear = skyYear\n",
    "    def generatemod(self):\n",
    "        self.object.setgeometry(self.object.name+\"Mesh.usesconf\")\n",
    "        return self.object.generatemod()\n",
    "    def generatefiles(self, absOutDir, relOutDir):\n",
    "        fileName = self.object.name+\"Mesh.usesconf\"\n",
    "        s = string.Template(Template)\n",
    "        f = open(absOutDir+\"\\\\\"+fileName, 'w')\n",
    "        if f:\n",
    "            f.write(s.substitute(folderName = relOutDir,\n",
    "                                 cr = self.cr,\n",
    "                                 panorama = self.panorama,\n",
    "                                 ColorMultiplier = self.ColorMultiplier,\n",
    "                                 Scale = self.Scale,\n",
    "                                 displayFraction = self.displayFraction,\n",
    "                                 skyYear=self.skyYear,\n",
    "                                 RotationAxis = self.RotationAxis,\n",
    "                                 RotationAngle = self.RotationAngle))\n",
    "            f.close()\n",
    "        uvmod.Utility.copyfoldercontents(os.getcwd()+\"\\\\\"+dataFolder, absOutDir)"
   ]
  },
  {
   "cell_type": "markdown",
   "metadata": {},
   "source": [
    "### Object Instantiation"
   ]
  },
  {
   "cell_type": "code",
   "execution_count": 5,
   "metadata": {
    "collapsed": false
   },
   "outputs": [],
   "source": [
    "model = IceCoreRedSky(uvmod.OrbitalObject())\n",
    "generator = uvmod.Generator()\n",
    "scene = uvmod.Scene()\n",
    "modinfo = uvmod.ModuleInformation()"
   ]
  },
  {
   "cell_type": "markdown",
   "metadata": {},
   "source": [
    "### Specify Settings and generate the module"
   ]
  },
  {
   "cell_type": "code",
   "execution_count": 6,
   "metadata": {
    "collapsed": false
   },
   "outputs": [],
   "source": [
    "model.object.setcameraradius(10)\n",
    "model.object.setcoord(\"Earth\")\n",
    "model.object.setname(\"IceCoreRedSky\")\n",
    "model.object.setguiname(\"/KavliLecture/Schrag/IceCoreRedSky\")\n",
    "model.object.settargetradius(20)\n",
    "model.object.showatstartup(False)\n",
    "model.setPanorama(\"00028487_pano_080503_clearice.dds\")\n",
    "model.setColorMultiplier((1.,1.,1.,1.))\n",
    "model.setScale(100)\n",
    "model.cr = 10000\n",
    "modinfo.setname(\"IceCoreRedSky\")\n",
    "modinfo.setauthor(\"Mark SubbaRao<sup>1</sup> and Daniel Schragg<sup>2</sup><br />(1)Adler Planetarium,br />(2)Harvard University\")\n",
    "modinfo.cleardependencies()\n",
    "modinfo.setdesc(\"Atmospheric CO2 as red glow, ice core background panorama\")\n",
    "modinfo.setthumbnail(\"\")\n",
    "modinfo.setversion(\"1.0\")\n",
    "\n",
    "generator.generate(\"IceCoreRedSky\",[],[model],modinfo)\n",
    "uvmod.Utility.senduvcommand(model.object.name+\".reload\")"
   ]
  },
  {
   "cell_type": "markdown",
   "metadata": {},
   "source": [
    "### Helper Functions for modifing code\n",
    "##### Reload Module and Shaders in Uniview"
   ]
  },
  {
   "cell_type": "code",
   "execution_count": 7,
   "metadata": {
    "collapsed": false
   },
   "outputs": [],
   "source": [
    "uvmod.Utility.senduvcommand(model.object.name+\".reload; system.reloadallshaders\")"
   ]
  },
  {
   "cell_type": "markdown",
   "metadata": {},
   "source": [
    "Copy modified Shader files and reload"
   ]
  },
  {
   "cell_type": "code",
   "execution_count": 8,
   "metadata": {
    "collapsed": true
   },
   "outputs": [],
   "source": [
    "from config import Settings\n"
   ]
  },
  {
   "cell_type": "code",
   "execution_count": 9,
   "metadata": {
    "collapsed": false
   },
   "outputs": [],
   "source": [
    "uvmod.Utility.copyfoldercontents(os.getcwd()+\"\\\\\"+dataFolder, Settings.uvcustommodulelocation+'\\\\'+model.object.name)\n",
    "uvmod.Utility.senduvcommand(model.object.name+\".reload\")"
   ]
  }
 ],
 "metadata": {
  "anaconda-cloud": {},
  "kernelspec": {
   "display_name": "Python [default]",
   "language": "python",
   "name": "python3"
  },
  "language_info": {
   "codemirror_mode": {
    "name": "ipython",
    "version": 3
   },
   "file_extension": ".py",
   "mimetype": "text/x-python",
   "name": "python",
   "nbconvert_exporter": "python",
   "pygments_lexer": "ipython3",
   "version": "3.5.2"
  }
 },
 "nbformat": 4,
 "nbformat_minor": 0
}
